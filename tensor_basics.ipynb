{
 "cells": [
  {
   "cell_type": "code",
   "execution_count": 2,
   "id": "35055686-9b47-4454-bacd-62175bbe252f",
   "metadata": {},
   "outputs": [
    {
     "data": {
      "text/plain": [
       "'2.5.1+cpu'"
      ]
     },
     "execution_count": 2,
     "metadata": {},
     "output_type": "execute_result"
    }
   ],
   "source": [
    "import torch\n",
    "torch.__version__"
   ]
  },
  {
   "cell_type": "code",
   "execution_count": 2,
   "id": "6a23687c-f1f0-4a04-bbe5-e23932db9f8a",
   "metadata": {},
   "outputs": [
    {
     "name": "stdout",
     "output_type": "stream",
     "text": [
      "No GPU available\n"
     ]
    }
   ],
   "source": [
    "if torch.cuda.is_available():\n",
    "    print('Gpu device is', torch.cuda.get_device_name(0))\n",
    "else:\n",
    "    print('No GPU available')"
   ]
  },
  {
   "cell_type": "markdown",
   "id": "76831f1c-b1f0-493d-983d-197ed9c38d22",
   "metadata": {},
   "source": [
    "## Creating tensors"
   ]
  },
  {
   "cell_type": "code",
   "execution_count": 3,
   "id": "6e05d6f9-c2b2-4919-a116-51edaf12287f",
   "metadata": {},
   "outputs": [
    {
     "data": {
      "text/plain": [
       "tensor([[0., 0., 0.],\n",
       "        [0., 0., 0.]])"
      ]
     },
     "execution_count": 3,
     "metadata": {},
     "output_type": "execute_result"
    }
   ],
   "source": [
    "torch.zeros(2,3)"
   ]
  },
  {
   "cell_type": "code",
   "execution_count": 4,
   "id": "e6993266-4e5a-4011-9d1a-2d8f0ea0be93",
   "metadata": {},
   "outputs": [
    {
     "data": {
      "text/plain": [
       "tensor([[1., 1., 1.],\n",
       "        [1., 1., 1.],\n",
       "        [1., 1., 1.]])"
      ]
     },
     "execution_count": 4,
     "metadata": {},
     "output_type": "execute_result"
    }
   ],
   "source": [
    "torch.ones(3,3)"
   ]
  },
  {
   "cell_type": "code",
   "execution_count": 5,
   "id": "5e252c12-aff2-46ea-8649-86e50409c171",
   "metadata": {},
   "outputs": [
    {
     "data": {
      "text/plain": [
       "tensor([[  1,   2,   4],\n",
       "        [423, 534,   6]])"
      ]
     },
     "execution_count": 5,
     "metadata": {},
     "output_type": "execute_result"
    }
   ],
   "source": [
    "torch.tensor([[1,2,4], [423,534,6]])"
   ]
  },
  {
   "cell_type": "markdown",
   "id": "ffefea2a-a918-4541-9133-d16167c03020",
   "metadata": {},
   "source": [
    "- Each time torch.rand will generate random numbers "
   ]
  },
  {
   "cell_type": "code",
   "execution_count": 3,
   "id": "cb30ec63-3aff-4d85-94a7-c9cd7cb50972",
   "metadata": {},
   "outputs": [
    {
     "data": {
      "text/plain": [
       "tensor([[0.5240, 0.7149, 0.4498, 0.7268],\n",
       "        [0.5195, 0.8422, 0.7920, 0.5739]])"
      ]
     },
     "execution_count": 3,
     "metadata": {},
     "output_type": "execute_result"
    }
   ],
   "source": [
    "torch.rand(2,4)"
   ]
  },
  {
   "cell_type": "markdown",
   "id": "e05f0429-9c90-4767-adeb-c29b6a6785e8",
   "metadata": {},
   "source": [
    "- To generate same numbers we give the seed value"
   ]
  },
  {
   "cell_type": "code",
   "execution_count": 7,
   "id": "1d4f9ff7-2cb7-4b38-9f5e-edfc5f1f07d0",
   "metadata": {},
   "outputs": [
    {
     "data": {
      "text/plain": [
       "tensor([[0.8757, 0.2721],\n",
       "        [0.4141, 0.7857]])"
      ]
     },
     "execution_count": 7,
     "metadata": {},
     "output_type": "execute_result"
    }
   ],
   "source": [
    "torch.manual_seed(32)\n",
    "torch.rand(2,2)"
   ]
  },
  {
   "cell_type": "markdown",
   "id": "8d4349a3-2162-4007-a836-c21874e7c1d3",
   "metadata": {},
   "source": [
    "- Creating tensors using same functions that we have in numpy"
   ]
  },
  {
   "cell_type": "code",
   "execution_count": 10,
   "id": "fbd41c58-6bcb-49e9-954a-8329bcd855b9",
   "metadata": {},
   "outputs": [
    {
     "data": {
      "text/plain": [
       "tensor([ 1,  3,  5,  7,  9, 11, 13, 15, 17, 19, 21, 23, 25, 27, 29, 31, 33, 35,\n",
       "        37, 39, 41, 43, 45, 47, 49, 51, 53, 55, 57, 59, 61, 63, 65, 67, 69, 71,\n",
       "        73, 75, 77, 79, 81, 83, 85, 87, 89, 91, 93, 95, 97])"
      ]
     },
     "execution_count": 10,
     "metadata": {},
     "output_type": "execute_result"
    }
   ],
   "source": [
    "torch.arange(1,99,2)"
   ]
  },
  {
   "cell_type": "code",
   "execution_count": 15,
   "id": "b023cd45-e8ee-4afa-b1fd-5ca2e35deefe",
   "metadata": {},
   "outputs": [
    {
     "data": {
      "text/plain": [
       "tensor([ 2.0000,  5.6667,  9.3333, 13.0000])"
      ]
     },
     "execution_count": 15,
     "metadata": {},
     "output_type": "execute_result"
    }
   ],
   "source": [
    "torch.linspace(2,13,4)"
   ]
  },
  {
   "cell_type": "code",
   "execution_count": 16,
   "id": "15ad2c88-68dc-45bf-a34f-91763ca0f059",
   "metadata": {},
   "outputs": [
    {
     "data": {
      "text/plain": [
       "tensor([[1., 0., 0.],\n",
       "        [0., 1., 0.],\n",
       "        [0., 0., 1.]])"
      ]
     },
     "execution_count": 16,
     "metadata": {},
     "output_type": "execute_result"
    }
   ],
   "source": [
    "torch.eye(3)"
   ]
  },
  {
   "cell_type": "code",
   "execution_count": 19,
   "id": "7b1942ed-23b6-40e5-9a01-c36422f2647d",
   "metadata": {},
   "outputs": [
    {
     "data": {
      "text/plain": [
       "tensor([[6, 6, 6, 6, 6],\n",
       "        [6, 6, 6, 6, 6],\n",
       "        [6, 6, 6, 6, 6]])"
      ]
     },
     "execution_count": 19,
     "metadata": {},
     "output_type": "execute_result"
    }
   ],
   "source": [
    "torch.full((3,5),6)"
   ]
  },
  {
   "cell_type": "markdown",
   "id": "6383d781-e353-4967-9dfa-0f8da6e4fa3c",
   "metadata": {},
   "source": [
    "### Shapes in Tensor"
   ]
  },
  {
   "cell_type": "code",
   "execution_count": 31,
   "id": "fd6eb6fa-b2e2-4584-824f-b44d5cab5d73",
   "metadata": {},
   "outputs": [
    {
     "data": {
      "text/plain": [
       "tensor([[4.0000e+00, 5.3000e+01, 5.4340e+03],\n",
       "        [4.0000e+00, 5.3400e+02, 6.4000e+01]], dtype=torch.float64)"
      ]
     },
     "execution_count": 31,
     "metadata": {},
     "output_type": "execute_result"
    }
   ],
   "source": [
    "a = torch.tensor([[4,53,5434], [4, 534, 64]], dtype=torch.float64)\n",
    "a"
   ]
  },
  {
   "cell_type": "code",
   "execution_count": 32,
   "id": "cc41a644-475f-4a90-b195-54b2e9f4a71c",
   "metadata": {},
   "outputs": [
    {
     "data": {
      "text/plain": [
       "torch.Size([2, 3])"
      ]
     },
     "execution_count": 32,
     "metadata": {},
     "output_type": "execute_result"
    }
   ],
   "source": [
    "a.shape"
   ]
  },
  {
   "cell_type": "code",
   "execution_count": 33,
   "id": "68d23fd2-e819-4f8d-a34d-da276973c7fb",
   "metadata": {},
   "outputs": [
    {
     "data": {
      "text/plain": [
       "tensor([[0., 0., 0.],\n",
       "        [0., 0., 0.]], dtype=torch.float64)"
      ]
     },
     "execution_count": 33,
     "metadata": {},
     "output_type": "execute_result"
    }
   ],
   "source": [
    "torch.empty_like(a)"
   ]
  },
  {
   "cell_type": "code",
   "execution_count": 34,
   "id": "2a5a098c-61ca-42c9-b486-e4bbf94d9c75",
   "metadata": {},
   "outputs": [
    {
     "data": {
      "text/plain": [
       "tensor([[1., 1., 1.],\n",
       "        [1., 1., 1.]], dtype=torch.float64)"
      ]
     },
     "execution_count": 34,
     "metadata": {},
     "output_type": "execute_result"
    }
   ],
   "source": [
    "torch.ones_like(a)"
   ]
  },
  {
   "cell_type": "code",
   "execution_count": 36,
   "id": "fd95058c-5742-4aef-b3a7-e29d316910d1",
   "metadata": {},
   "outputs": [
    {
     "data": {
      "text/plain": [
       "tensor([[0.4556, 0.7414, 0.9739],\n",
       "        [0.9414, 0.3172, 0.6292]], dtype=torch.float64)"
      ]
     },
     "execution_count": 36,
     "metadata": {},
     "output_type": "execute_result"
    }
   ],
   "source": [
    "# It works only if we have float elements in our tensor\n",
    "torch.rand_like(a)"
   ]
  },
  {
   "cell_type": "markdown",
   "id": "dc8afc1d-9b30-4c14-ab4d-991553fb0a0a",
   "metadata": {},
   "source": [
    "### Dtypes in tensor"
   ]
  },
  {
   "cell_type": "code",
   "execution_count": null,
   "id": "92326436-7b05-435d-90c9-7eb551204ac2",
   "metadata": {},
   "outputs": [],
   "source": []
  }
 ],
 "metadata": {
  "kernelspec": {
   "display_name": "Python 3 (ipykernel)",
   "language": "python",
   "name": "python3"
  },
  "language_info": {
   "codemirror_mode": {
    "name": "ipython",
    "version": 3
   },
   "file_extension": ".py",
   "mimetype": "text/x-python",
   "name": "python",
   "nbconvert_exporter": "python",
   "pygments_lexer": "ipython3",
   "version": "3.12.6"
  }
 },
 "nbformat": 4,
 "nbformat_minor": 5
}
