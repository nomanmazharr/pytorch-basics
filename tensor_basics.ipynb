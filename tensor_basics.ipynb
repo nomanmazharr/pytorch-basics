{
 "cells": [
  {
   "cell_type": "code",
   "execution_count": 2,
   "id": "35055686-9b47-4454-bacd-62175bbe252f",
   "metadata": {},
   "outputs": [
    {
     "data": {
      "text/plain": [
       "'2.5.1+cpu'"
      ]
     },
     "execution_count": 2,
     "metadata": {},
     "output_type": "execute_result"
    }
   ],
   "source": [
    "import torch\n",
    "torch.__version__"
   ]
  },
  {
   "cell_type": "code",
   "execution_count": 2,
   "id": "6a23687c-f1f0-4a04-bbe5-e23932db9f8a",
   "metadata": {},
   "outputs": [
    {
     "name": "stdout",
     "output_type": "stream",
     "text": [
      "No GPU available\n"
     ]
    }
   ],
   "source": [
    "if torch.cuda.is_available():\n",
    "    print('Gpu device is', torch.cuda.get_device_name(0))\n",
    "else:\n",
    "    print('No GPU available')"
   ]
  },
  {
   "cell_type": "markdown",
   "id": "76831f1c-b1f0-493d-983d-197ed9c38d22",
   "metadata": {},
   "source": [
    "## Creating tensors"
   ]
  },
  {
   "cell_type": "code",
   "execution_count": 3,
   "id": "6e05d6f9-c2b2-4919-a116-51edaf12287f",
   "metadata": {},
   "outputs": [
    {
     "data": {
      "text/plain": [
       "tensor([[0., 0., 0.],\n",
       "        [0., 0., 0.]])"
      ]
     },
     "execution_count": 3,
     "metadata": {},
     "output_type": "execute_result"
    }
   ],
   "source": [
    "torch.zeros(2,3)"
   ]
  },
  {
   "cell_type": "code",
   "execution_count": 4,
   "id": "e6993266-4e5a-4011-9d1a-2d8f0ea0be93",
   "metadata": {},
   "outputs": [
    {
     "data": {
      "text/plain": [
       "tensor([[1., 1., 1.],\n",
       "        [1., 1., 1.],\n",
       "        [1., 1., 1.]])"
      ]
     },
     "execution_count": 4,
     "metadata": {},
     "output_type": "execute_result"
    }
   ],
   "source": [
    "torch.ones(3,3)"
   ]
  },
  {
   "cell_type": "code",
   "execution_count": 5,
   "id": "5e252c12-aff2-46ea-8649-86e50409c171",
   "metadata": {},
   "outputs": [
    {
     "data": {
      "text/plain": [
       "tensor([[  1,   2,   4],\n",
       "        [423, 534,   6]])"
      ]
     },
     "execution_count": 5,
     "metadata": {},
     "output_type": "execute_result"
    }
   ],
   "source": [
    "torch.tensor([[1,2,4], [423,534,6]])"
   ]
  },
  {
   "cell_type": "markdown",
   "id": "ffefea2a-a918-4541-9133-d16167c03020",
   "metadata": {},
   "source": [
    "- Each time torch.rand will generate random numbers "
   ]
  },
  {
   "cell_type": "code",
   "execution_count": 3,
   "id": "cb30ec63-3aff-4d85-94a7-c9cd7cb50972",
   "metadata": {},
   "outputs": [
    {
     "data": {
      "text/plain": [
       "tensor([[0.5240, 0.7149, 0.4498, 0.7268],\n",
       "        [0.5195, 0.8422, 0.7920, 0.5739]])"
      ]
     },
     "execution_count": 3,
     "metadata": {},
     "output_type": "execute_result"
    }
   ],
   "source": [
    "torch.rand(2,4)"
   ]
  },
  {
   "cell_type": "markdown",
   "id": "e05f0429-9c90-4767-adeb-c29b6a6785e8",
   "metadata": {},
   "source": [
    "- To generate same numbers we give the seed value"
   ]
  },
  {
   "cell_type": "code",
   "execution_count": 7,
   "id": "1d4f9ff7-2cb7-4b38-9f5e-edfc5f1f07d0",
   "metadata": {},
   "outputs": [
    {
     "data": {
      "text/plain": [
       "tensor([[0.8757, 0.2721],\n",
       "        [0.4141, 0.7857]])"
      ]
     },
     "execution_count": 7,
     "metadata": {},
     "output_type": "execute_result"
    }
   ],
   "source": [
    "torch.manual_seed(32)\n",
    "torch.rand(2,2)"
   ]
  },
  {
   "cell_type": "markdown",
   "id": "8d4349a3-2162-4007-a836-c21874e7c1d3",
   "metadata": {},
   "source": [
    "- Creating tensors using same functions that we have in numpy"
   ]
  },
  {
   "cell_type": "code",
   "execution_count": 10,
   "id": "fbd41c58-6bcb-49e9-954a-8329bcd855b9",
   "metadata": {},
   "outputs": [
    {
     "data": {
      "text/plain": [
       "tensor([ 1,  3,  5,  7,  9, 11, 13, 15, 17, 19, 21, 23, 25, 27, 29, 31, 33, 35,\n",
       "        37, 39, 41, 43, 45, 47, 49, 51, 53, 55, 57, 59, 61, 63, 65, 67, 69, 71,\n",
       "        73, 75, 77, 79, 81, 83, 85, 87, 89, 91, 93, 95, 97])"
      ]
     },
     "execution_count": 10,
     "metadata": {},
     "output_type": "execute_result"
    }
   ],
   "source": [
    "torch.arange(1,99,2)"
   ]
  },
  {
   "cell_type": "code",
   "execution_count": 15,
   "id": "b023cd45-e8ee-4afa-b1fd-5ca2e35deefe",
   "metadata": {},
   "outputs": [
    {
     "data": {
      "text/plain": [
       "tensor([ 2.0000,  5.6667,  9.3333, 13.0000])"
      ]
     },
     "execution_count": 15,
     "metadata": {},
     "output_type": "execute_result"
    }
   ],
   "source": [
    "torch.linspace(2,13,4)"
   ]
  },
  {
   "cell_type": "code",
   "execution_count": 16,
   "id": "15ad2c88-68dc-45bf-a34f-91763ca0f059",
   "metadata": {},
   "outputs": [
    {
     "data": {
      "text/plain": [
       "tensor([[1., 0., 0.],\n",
       "        [0., 1., 0.],\n",
       "        [0., 0., 1.]])"
      ]
     },
     "execution_count": 16,
     "metadata": {},
     "output_type": "execute_result"
    }
   ],
   "source": [
    "torch.eye(3)"
   ]
  },
  {
   "cell_type": "code",
   "execution_count": 19,
   "id": "7b1942ed-23b6-40e5-9a01-c36422f2647d",
   "metadata": {},
   "outputs": [
    {
     "data": {
      "text/plain": [
       "tensor([[6, 6, 6, 6, 6],\n",
       "        [6, 6, 6, 6, 6],\n",
       "        [6, 6, 6, 6, 6]])"
      ]
     },
     "execution_count": 19,
     "metadata": {},
     "output_type": "execute_result"
    }
   ],
   "source": [
    "torch.full((3,5),6)"
   ]
  },
  {
   "cell_type": "markdown",
   "id": "6383d781-e353-4967-9dfa-0f8da6e4fa3c",
   "metadata": {},
   "source": [
    "### Shapes in Tensor"
   ]
  },
  {
   "cell_type": "code",
   "execution_count": 31,
   "id": "fd6eb6fa-b2e2-4584-824f-b44d5cab5d73",
   "metadata": {},
   "outputs": [
    {
     "data": {
      "text/plain": [
       "tensor([[4.0000e+00, 5.3000e+01, 5.4340e+03],\n",
       "        [4.0000e+00, 5.3400e+02, 6.4000e+01]], dtype=torch.float64)"
      ]
     },
     "execution_count": 31,
     "metadata": {},
     "output_type": "execute_result"
    }
   ],
   "source": [
    "a = torch.tensor([[4,53,5434], [4, 534, 64]], dtype=torch.float64)\n",
    "a"
   ]
  },
  {
   "cell_type": "code",
   "execution_count": 32,
   "id": "cc41a644-475f-4a90-b195-54b2e9f4a71c",
   "metadata": {},
   "outputs": [
    {
     "data": {
      "text/plain": [
       "torch.Size([2, 3])"
      ]
     },
     "execution_count": 32,
     "metadata": {},
     "output_type": "execute_result"
    }
   ],
   "source": [
    "a.shape"
   ]
  },
  {
   "cell_type": "code",
   "execution_count": 33,
   "id": "68d23fd2-e819-4f8d-a34d-da276973c7fb",
   "metadata": {},
   "outputs": [
    {
     "data": {
      "text/plain": [
       "tensor([[0., 0., 0.],\n",
       "        [0., 0., 0.]], dtype=torch.float64)"
      ]
     },
     "execution_count": 33,
     "metadata": {},
     "output_type": "execute_result"
    }
   ],
   "source": [
    "torch.empty_like(a)"
   ]
  },
  {
   "cell_type": "code",
   "execution_count": 34,
   "id": "2a5a098c-61ca-42c9-b486-e4bbf94d9c75",
   "metadata": {},
   "outputs": [
    {
     "data": {
      "text/plain": [
       "tensor([[1., 1., 1.],\n",
       "        [1., 1., 1.]], dtype=torch.float64)"
      ]
     },
     "execution_count": 34,
     "metadata": {},
     "output_type": "execute_result"
    }
   ],
   "source": [
    "torch.ones_like(a)"
   ]
  },
  {
   "cell_type": "code",
   "execution_count": 36,
   "id": "fd95058c-5742-4aef-b3a7-e29d316910d1",
   "metadata": {},
   "outputs": [
    {
     "data": {
      "text/plain": [
       "tensor([[0.4556, 0.7414, 0.9739],\n",
       "        [0.9414, 0.3172, 0.6292]], dtype=torch.float64)"
      ]
     },
     "execution_count": 36,
     "metadata": {},
     "output_type": "execute_result"
    }
   ],
   "source": [
    "# It works only if we have float elements in our tensor\n",
    "torch.rand_like(a)"
   ]
  },
  {
   "cell_type": "markdown",
   "id": "dc8afc1d-9b30-4c14-ab4d-991553fb0a0a",
   "metadata": {},
   "source": [
    "### Dtypes in tensor"
   ]
  },
  {
   "cell_type": "code",
   "execution_count": 37,
   "id": "92326436-7b05-435d-90c9-7eb551204ac2",
   "metadata": {},
   "outputs": [
    {
     "data": {
      "text/plain": [
       "torch.float64"
      ]
     },
     "execution_count": 37,
     "metadata": {},
     "output_type": "execute_result"
    }
   ],
   "source": [
    "a.dtype"
   ]
  },
  {
   "cell_type": "code",
   "execution_count": 41,
   "id": "d04fc914-11f8-4763-b8a7-78b72d322bcb",
   "metadata": {},
   "outputs": [
    {
     "data": {
      "text/plain": [
       "tensor([[1, 1, 1, 1],\n",
       "        [1, 1, 1, 1]], dtype=torch.int32)"
      ]
     },
     "execution_count": 41,
     "metadata": {},
     "output_type": "execute_result"
    }
   ],
   "source": [
    "# we can even specify the dtype while creating the tensor\n",
    "torch.ones([2,4], dtype = torch.int32)"
   ]
  },
  {
   "cell_type": "markdown",
   "id": "9c14a423-12c7-432e-b347-e3602b058663",
   "metadata": {},
   "source": [
    "- Converting the dtypes of the tensors"
   ]
  },
  {
   "cell_type": "code",
   "execution_count": 44,
   "id": "acbfbb62-b04a-4bc7-be9f-4be488b6b6e5",
   "metadata": {},
   "outputs": [
    {
     "data": {
      "text/plain": [
       "tensor([[4.0000e+00, 5.3000e+01, 5.4340e+03],\n",
       "        [4.0000e+00, 5.3400e+02, 6.4000e+01]])"
      ]
     },
     "execution_count": 44,
     "metadata": {},
     "output_type": "execute_result"
    }
   ],
   "source": [
    "a.to(torch.float32)"
   ]
  },
  {
   "cell_type": "code",
   "execution_count": 46,
   "id": "ab1f512b-2db5-46f2-abeb-d089adb0ab76",
   "metadata": {},
   "outputs": [
    {
     "data": {
      "text/plain": [
       "tensor([[   4,   53, 5434],\n",
       "        [   4,  534,   64]], dtype=torch.int32)"
      ]
     },
     "execution_count": 46,
     "metadata": {},
     "output_type": "execute_result"
    }
   ],
   "source": [
    "a.to(torch.int32)"
   ]
  },
  {
   "cell_type": "markdown",
   "id": "2a1b6a90-e76f-4492-a01a-69b9893b309b",
   "metadata": {},
   "source": [
    "### Mathematical Operation on Tensor"
   ]
  },
  {
   "cell_type": "code",
   "execution_count": 47,
   "id": "454903a0-d299-47ab-8906-188bfc5d8a3a",
   "metadata": {},
   "outputs": [
    {
     "data": {
      "text/plain": [
       "tensor([[   8.,   57., 5438.],\n",
       "        [   8.,  538.,   68.]], dtype=torch.float64)"
      ]
     },
     "execution_count": 47,
     "metadata": {},
     "output_type": "execute_result"
    }
   ],
   "source": [
    "a + 4"
   ]
  },
  {
   "cell_type": "code",
   "execution_count": 48,
   "id": "f9bb07c0-afd5-4e66-868a-6c79b135b08b",
   "metadata": {},
   "outputs": [
    {
     "data": {
      "text/plain": [
       "tensor([[1.0000e+00, 5.0000e+01, 5.4310e+03],\n",
       "        [1.0000e+00, 5.3100e+02, 6.1000e+01]], dtype=torch.float64)"
      ]
     },
     "execution_count": 48,
     "metadata": {},
     "output_type": "execute_result"
    }
   ],
   "source": [
    "a -3"
   ]
  },
  {
   "cell_type": "code",
   "execution_count": 49,
   "id": "f57fbc0b-4d3f-4f79-b2fd-55e70ecd080d",
   "metadata": {},
   "outputs": [
    {
     "data": {
      "text/plain": [
       "tensor([[1.0000e+00, 1.3000e+01, 1.3580e+03],\n",
       "        [1.0000e+00, 1.3300e+02, 1.6000e+01]], dtype=torch.float64)"
      ]
     },
     "execution_count": 49,
     "metadata": {},
     "output_type": "execute_result"
    }
   ],
   "source": [
    "a //4"
   ]
  },
  {
   "cell_type": "code",
   "execution_count": 50,
   "id": "dfb4c2f2-b84f-4bd7-8a5f-8196e56a81b9",
   "metadata": {},
   "outputs": [
    {
     "data": {
      "text/plain": [
       "tensor([[1.2000e+01, 1.5900e+02, 1.6302e+04],\n",
       "        [1.2000e+01, 1.6020e+03, 1.9200e+02]], dtype=torch.float64)"
      ]
     },
     "execution_count": 50,
     "metadata": {},
     "output_type": "execute_result"
    }
   ],
   "source": [
    "a * 3"
   ]
  },
  {
   "cell_type": "code",
   "execution_count": 51,
   "id": "260eda4d-9fe0-4cb5-b923-ec95f53c4650",
   "metadata": {},
   "outputs": [
    {
     "data": {
      "text/plain": [
       "tensor([[1.6000e+01, 2.8090e+03, 2.9528e+07],\n",
       "        [1.6000e+01, 2.8516e+05, 4.0960e+03]], dtype=torch.float64)"
      ]
     },
     "execution_count": 51,
     "metadata": {},
     "output_type": "execute_result"
    }
   ],
   "source": [
    "a ** 2"
   ]
  },
  {
   "cell_type": "markdown",
   "id": "9734dd89-b563-432d-8a8e-d3c329b919cf",
   "metadata": {},
   "source": [
    "### Element wise Operation"
   ]
  },
  {
   "cell_type": "code",
   "execution_count": 53,
   "id": "bce395c8-d9f0-4cd2-baf7-0e4aa945d62c",
   "metadata": {},
   "outputs": [],
   "source": [
    "b = torch.tensor([1,4,5])\n",
    "c = torch.tensor([5,6,6])"
   ]
  },
  {
   "cell_type": "code",
   "execution_count": 54,
   "id": "5dd40eeb-8533-4176-99b7-155d83cb4b2d",
   "metadata": {},
   "outputs": [
    {
     "data": {
      "text/plain": [
       "tensor([ 6, 10, 11])"
      ]
     },
     "execution_count": 54,
     "metadata": {},
     "output_type": "execute_result"
    }
   ],
   "source": [
    "b + c"
   ]
  },
  {
   "cell_type": "code",
   "execution_count": 55,
   "id": "1a199545-01c2-4520-b271-f1003178adeb",
   "metadata": {},
   "outputs": [
    {
     "data": {
      "text/plain": [
       "tensor([-4, -2, -1])"
      ]
     },
     "execution_count": 55,
     "metadata": {},
     "output_type": "execute_result"
    }
   ],
   "source": [
    "b - c"
   ]
  },
  {
   "cell_type": "code",
   "execution_count": 56,
   "id": "c3071f6b-a140-4a1e-b68d-ba044b574477",
   "metadata": {},
   "outputs": [],
   "source": [
    "d = torch.tensor([4,-2,5,0])"
   ]
  },
  {
   "cell_type": "code",
   "execution_count": 59,
   "id": "2547b4bc-99b0-48b8-ad9a-7353e851cf74",
   "metadata": {},
   "outputs": [
    {
     "data": {
      "text/plain": [
       "tensor([4, 2, 5, 0])"
      ]
     },
     "execution_count": 59,
     "metadata": {},
     "output_type": "execute_result"
    }
   ],
   "source": [
    "d.abs()"
   ]
  },
  {
   "cell_type": "code",
   "execution_count": 62,
   "id": "021fe6ef-8a16-424f-8a74-0b16dda2fc3c",
   "metadata": {},
   "outputs": [
    {
     "data": {
      "text/plain": [
       "tensor([-4,  2, -5,  0])"
      ]
     },
     "execution_count": 62,
     "metadata": {},
     "output_type": "execute_result"
    }
   ],
   "source": [
    "d.neg()"
   ]
  },
  {
   "cell_type": "code",
   "execution_count": 69,
   "id": "54f6742a-d055-4e34-9072-02e7aac843dc",
   "metadata": {},
   "outputs": [],
   "source": [
    "d = torch.randint(size = (2,4), low = 0 ,high=33)"
   ]
  },
  {
   "cell_type": "code",
   "execution_count": 71,
   "id": "33ef6de3-72e6-41a4-a80f-b585674f7bc3",
   "metadata": {},
   "outputs": [
    {
     "data": {
      "text/plain": [
       "tensor([[10, 15,  2,  7],\n",
       "        [30, 28, 23,  3]])"
      ]
     },
     "execution_count": 71,
     "metadata": {},
     "output_type": "execute_result"
    }
   ],
   "source": [
    "d"
   ]
  },
  {
   "cell_type": "code",
   "execution_count": 70,
   "id": "37225ec5-3e84-4171-a951-e4f20f07a733",
   "metadata": {},
   "outputs": [
    {
     "data": {
      "text/plain": [
       "tensor(118)"
      ]
     },
     "execution_count": 70,
     "metadata": {},
     "output_type": "execute_result"
    }
   ],
   "source": [
    "d.sum()"
   ]
  },
  {
   "cell_type": "code",
   "execution_count": 73,
   "id": "ea296fc3-9dfa-4e5d-9722-276291c6a639",
   "metadata": {},
   "outputs": [
    {
     "data": {
      "text/plain": [
       "tensor([34, 84])"
      ]
     },
     "execution_count": 73,
     "metadata": {},
     "output_type": "execute_result"
    }
   ],
   "source": [
    "d.sum(dim=1)"
   ]
  },
  {
   "cell_type": "code",
   "execution_count": 74,
   "id": "d1ba584b-6a9f-4bf1-a2be-b8b548d15a7d",
   "metadata": {},
   "outputs": [
    {
     "data": {
      "text/plain": [
       "tensor([40, 43, 25, 10])"
      ]
     },
     "execution_count": 74,
     "metadata": {},
     "output_type": "execute_result"
    }
   ],
   "source": [
    "d.sum(dim=0)"
   ]
  },
  {
   "cell_type": "code",
   "execution_count": 75,
   "id": "772f1564-8e56-4245-8b69-31aae34bf603",
   "metadata": {},
   "outputs": [
    {
     "data": {
      "text/plain": [
       "tensor(30)"
      ]
     },
     "execution_count": 75,
     "metadata": {},
     "output_type": "execute_result"
    }
   ],
   "source": [
    "d.max()"
   ]
  },
  {
   "cell_type": "code",
   "execution_count": 76,
   "id": "e80810ae-2a64-42b1-a947-5be11f2c2d12",
   "metadata": {},
   "outputs": [
    {
     "data": {
      "text/plain": [
       "tensor(10)"
      ]
     },
     "execution_count": 76,
     "metadata": {},
     "output_type": "execute_result"
    }
   ],
   "source": [
    "d.median()"
   ]
  },
  {
   "cell_type": "markdown",
   "id": "bccc70fb-9cc4-435d-a827-24127d11aed1",
   "metadata": {},
   "source": [
    "### Matrix Operation"
   ]
  },
  {
   "cell_type": "code",
   "execution_count": 78,
   "id": "79fbbbb4-d9ed-4d26-ba7d-54acb9bb0954",
   "metadata": {},
   "outputs": [],
   "source": [
    "e = torch.randint(size=(4,3), low = 0, high=10)\n",
    "f = torch.randint(size=(3,4), low=2, high = 8)"
   ]
  },
  {
   "cell_type": "code",
   "execution_count": 79,
   "id": "a1a1220e-dc2a-4b7a-af1e-88f298018a67",
   "metadata": {},
   "outputs": [
    {
     "data": {
      "text/plain": [
       "tensor([[0, 1, 6],\n",
       "        [6, 5, 8],\n",
       "        [5, 6, 9],\n",
       "        [1, 0, 5]])"
      ]
     },
     "execution_count": 79,
     "metadata": {},
     "output_type": "execute_result"
    }
   ],
   "source": [
    "e "
   ]
  },
  {
   "cell_type": "code",
   "execution_count": 80,
   "id": "74873c07-513a-45d7-acfb-1903cc830545",
   "metadata": {},
   "outputs": [
    {
     "data": {
      "text/plain": [
       "tensor([[4, 7, 5, 7],\n",
       "        [7, 7, 7, 5],\n",
       "        [6, 2, 3, 5]])"
      ]
     },
     "execution_count": 80,
     "metadata": {},
     "output_type": "execute_result"
    }
   ],
   "source": [
    "f"
   ]
  },
  {
   "cell_type": "code",
   "execution_count": 81,
   "id": "7354e825-f7aa-4153-86b4-49f18a995847",
   "metadata": {},
   "outputs": [
    {
     "data": {
      "text/plain": [
       "tensor([[ 43,  19,  25,  35],\n",
       "        [107,  93,  89, 107],\n",
       "        [116,  95,  94, 110],\n",
       "        [ 34,  17,  20,  32]])"
      ]
     },
     "execution_count": 81,
     "metadata": {},
     "output_type": "execute_result"
    }
   ],
   "source": [
    "e.matmul(f)"
   ]
  },
  {
   "cell_type": "code",
   "execution_count": 88,
   "id": "70a49b0b-e3f1-4670-a3ed-950619109b35",
   "metadata": {},
   "outputs": [
    {
     "data": {
      "text/plain": [
       "tensor([[0, 6, 5, 1],\n",
       "        [1, 5, 6, 0],\n",
       "        [6, 8, 9, 5]])"
      ]
     },
     "execution_count": 88,
     "metadata": {},
     "output_type": "execute_result"
    }
   ],
   "source": [
    "e.transpose(1,0)"
   ]
  },
  {
   "cell_type": "code",
   "execution_count": 90,
   "id": "78770660-6cad-4905-9723-2db493c4f153",
   "metadata": {},
   "outputs": [
    {
     "ename": "RuntimeError",
     "evalue": "linalg.det: A must be batches of square matrices, but they are 4 by 3 matrices",
     "output_type": "error",
     "traceback": [
      "\u001b[1;31m---------------------------------------------------------------------------\u001b[0m",
      "\u001b[1;31mRuntimeError\u001b[0m                              Traceback (most recent call last)",
      "Cell \u001b[1;32mIn[90], line 2\u001b[0m\n\u001b[0;32m      1\u001b[0m \u001b[38;5;66;03m# determinant should be of equal row and column matrices\u001b[39;00m\n\u001b[1;32m----> 2\u001b[0m \u001b[43me\u001b[49m\u001b[38;5;241;43m.\u001b[39;49m\u001b[43mdet\u001b[49m\u001b[43m(\u001b[49m\u001b[43m)\u001b[49m\n",
      "\u001b[1;31mRuntimeError\u001b[0m: linalg.det: A must be batches of square matrices, but they are 4 by 3 matrices"
     ]
    }
   ],
   "source": [
    "# determinant should be of equal row and column matrices\n",
    "e.det()"
   ]
  },
  {
   "cell_type": "markdown",
   "id": "cdddfe93-4d0e-4144-8c21-fc6813d4c38a",
   "metadata": {},
   "source": [
    "### Copying a tensor"
   ]
  },
  {
   "cell_type": "markdown",
   "id": "0b760b0a-ab98-4b75-9dee-c3939405e2bc",
   "metadata": {},
   "source": [
    "- Copy a tensor like this in this way if we change our main tensor then there is no effect on other"
   ]
  },
  {
   "cell_type": "code",
   "execution_count": 91,
   "id": "95def2ab-2560-4613-8441-fa933e7a9d36",
   "metadata": {},
   "outputs": [],
   "source": [
    "g = e.clone()"
   ]
  },
  {
   "cell_type": "code",
   "execution_count": 92,
   "id": "b340f579-d7d2-4555-a4f0-35bea3eb09f0",
   "metadata": {},
   "outputs": [
    {
     "data": {
      "text/plain": [
       "tensor([[0, 1, 6],\n",
       "        [6, 5, 8],\n",
       "        [5, 6, 9],\n",
       "        [1, 0, 5]])"
      ]
     },
     "execution_count": 92,
     "metadata": {},
     "output_type": "execute_result"
    }
   ],
   "source": [
    "g"
   ]
  },
  {
   "cell_type": "markdown",
   "id": "e987ead8-b6e5-474b-ac0e-728d98e60ce1",
   "metadata": {},
   "source": [
    "- We can see that they are being stored at different address"
   ]
  },
  {
   "cell_type": "code",
   "execution_count": 93,
   "id": "24a729a8-7f73-40c5-92f0-4fa656bc41d2",
   "metadata": {},
   "outputs": [
    {
     "data": {
      "text/plain": [
       "2018049198192"
      ]
     },
     "execution_count": 93,
     "metadata": {},
     "output_type": "execute_result"
    }
   ],
   "source": [
    "id(e)"
   ]
  },
  {
   "cell_type": "code",
   "execution_count": 94,
   "id": "39d69985-ca14-4224-921a-2e5da43c7657",
   "metadata": {},
   "outputs": [
    {
     "data": {
      "text/plain": [
       "2018046762896"
      ]
     },
     "execution_count": 94,
     "metadata": {},
     "output_type": "execute_result"
    }
   ],
   "source": [
    "id(g)"
   ]
  },
  {
   "cell_type": "code",
   "execution_count": null,
   "id": "43d650e8-c16a-420f-b643-375a4cd08eb7",
   "metadata": {},
   "outputs": [],
   "source": []
  }
 ],
 "metadata": {
  "kernelspec": {
   "display_name": "Python 3 (ipykernel)",
   "language": "python",
   "name": "python3"
  },
  "language_info": {
   "codemirror_mode": {
    "name": "ipython",
    "version": 3
   },
   "file_extension": ".py",
   "mimetype": "text/x-python",
   "name": "python",
   "nbconvert_exporter": "python",
   "pygments_lexer": "ipython3",
   "version": "3.12.6"
  }
 },
 "nbformat": 4,
 "nbformat_minor": 5
}
